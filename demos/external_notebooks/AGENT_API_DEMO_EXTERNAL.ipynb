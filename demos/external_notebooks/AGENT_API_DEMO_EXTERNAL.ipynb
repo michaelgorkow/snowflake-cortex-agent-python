{
 "cells": [
  {
   "cell_type": "markdown",
   "metadata": {},
   "source": [
    "# Demo: Cortex Agents Python API "
   ]
  },
  {
   "cell_type": "code",
   "execution_count": 1,
   "metadata": {},
   "outputs": [
    {
     "name": "stderr",
     "output_type": "stream",
     "text": [
      "2025-04-10 21:44:44,769 - cortex_agent - INFO - Found interactive environment (such as a notebook). Applied nest_asyncio to correctly support async calls.\n"
     ]
    }
   ],
   "source": [
    "# Imports\n",
    "from snowflake.snowpark import Session\n",
    "from cortex_agent.agent import CortexAgent\n",
    "from cortex_agent.configuration import CortexAgentConfiguration\n",
    "from cortex_agent.tools import (\n",
    "    CortexSearchTool, \n",
    "    CortexAnalystTool, \n",
    "    SQLExecTool,\n",
    "    DataToChartTool\n",
    "    )\n",
    "from cortex_agent.tool_resources import CortexSearchService, CortexAnalystService\n",
    "\n",
    "# Define log level\n",
    "from cortex_agent import setup_module_logger\n",
    "setup_module_logger(level='WARN')"
   ]
  },
  {
   "cell_type": "code",
   "execution_count": 23,
   "metadata": {},
   "outputs": [],
   "source": [
    "# Create a Snowpark Session (optional)\n",
    "from snowflake.snowpark import Session\n",
    "\n",
    "pat = open('pat.txt').readline()\n",
    "connection_parameters = {\n",
    "    \"account\": \"SFSEEUROPE-PROD_DEMO_GORKOW\",\n",
    "    \"user\": \"ADMIN\",\n",
    "    \"role\": \"ACCOUNTADMIN\",\n",
    "    \"warehouse\": \"COMPUTE_WH\",\n",
    "    \"database\": \"cortex_agents_demo\",\n",
    "    \"schema\": \"MAIN\",\n",
    "    \"password\":pat\n",
    "}\n",
    "\n",
    "session = Session.builder.configs(connection_parameters).create()"
   ]
  },
  {
   "cell_type": "code",
   "execution_count": 24,
   "metadata": {},
   "outputs": [],
   "source": [
    "import pandas as pd\n",
    "def get_all_tables():\n",
    "    return pd.DataFrame(session.sql('SHOW TERSE TABLES IN ACCOUNT').collect())\n",
    "\n",
    "all_tables = get_all_tables()"
   ]
  },
  {
   "cell_type": "code",
   "execution_count": 32,
   "metadata": {},
   "outputs": [
    {
     "data": {
      "text/plain": [
       "array(['AGENTS', 'CHUNKED_TEXT', 'CUSTOMER_ORDERS', 'ORDERS', 'PRODUCTS',\n",
       "       'RAW_TEXT'], dtype=object)"
      ]
     },
     "execution_count": 32,
     "metadata": {},
     "output_type": "execute_result"
    }
   ],
   "source": [
    "all_tables[(all_tables['database_name'] == 'CORTEX_AGENTS_DEMO') & (all_tables['schema_name'] == 'MAIN')]['name'].unique()"
   ]
  },
  {
   "cell_type": "markdown",
   "metadata": {},
   "source": [
    "# Create an Agent Configuration\n",
    "An agent has access to one or more tools.  "
   ]
  },
  {
   "cell_type": "code",
   "execution_count": null,
   "metadata": {},
   "outputs": [],
   "source": [
    "from cortex_agent.agent import CortexAgent\n",
    "from cortex_agent.configuration import CortexAgentConfiguration\n",
    "from cortex_agent.tools import SQLExecTool, DataToChartTool, CortexAnalystTool\n",
    "from cortex_agent.tool_resources import CortexAnalystService\n",
    "\n",
    "# Configure a Cortex Analyst Tool\n",
    "analyst_tool = CortexAnalystTool(name='analyst1')\n",
    "analyst_tool_resource = CortexAnalystService(resource_name='analyst1', semantic_model_file='@CORTEX_AGENTS_DEMO.main.semantic_models/sales_orders.yaml')\n",
    "sql_exec_tool = SQLExecTool(name='sql_exec1')\n",
    "data_to_chart_tool = DataToChartTool(name='datatochart1')\n",
    "\n",
    "# Adding all tools to the Configuration\n",
    "agent_config = CortexAgentConfiguration(\n",
    "    model='claude-3-5-sonnet',\n",
    "    tools=[analyst_tool, sql_exec_tool, data_to_chart_tool], \n",
    "    tool_resources=[analyst_tool_resource]\n",
    "    )\n",
    "\n",
    "# Create agent\n",
    "agent = CortexAgent(session=session, configuration=agent_config)\n",
    "for chunk in agent.make_request(content='What was the total order quantity per month with status shipped?'):\n",
    "    print(chunk, end='')"
   ]
  },
  {
   "cell_type": "code",
   "execution_count": null,
   "metadata": {},
   "outputs": [],
   "source": [
    "        # SQL: provided session\n",
    "        # REST: builds token from session\n",
    "        if has_session and not has_key_file and not has_pat and not has_connection_parameters:\n",
    "            self._init_from_session()\n",
    "\n",
    "        # works from external\n",
    "        # SQL: build session with private key\n",
    "        # REST: generated from private key\n",
    "        elif has_key_file and has_connection_parameters and not has_session and not has_pat:\n",
    "            self._init_from_private_key(create_session=True)\n",
    "\n",
    "        # works from external + internal\n",
    "        # SQL: provided session\n",
    "        # REST: generated from private key\n",
    "        elif has_key_file and has_connection_parameters and has_session and not has_pat:\n",
    "            self._init_from_private_key(create_session=False)\n",
    "\n",
    "        # works from external\n",
    "        # SQL: build with PAT\n",
    "        # REST: PAT\n",
    "        elif has_pat and has_connection_parameters and not has_session and not has_key_file:\n",
    "            self._init_from_programmatic_access_token(create_session=True)\n",
    "\n",
    "        # works from external + internal\n",
    "        # SQL: provided session\n",
    "        # REST: PAT\n",
    "        elif has_pat and not has_connection_parameters and has_session and not has_key_file:\n",
    "            self._init_from_programmatic_access_token(create_session=False)"
   ]
  },
  {
   "cell_type": "code",
   "execution_count": 3,
   "metadata": {},
   "outputs": [],
   "source": [
    "from cortex_agent.agent import CortexAgent\n",
    "from cortex_agent.configuration import CortexAgentConfiguration\n",
    "from cortex_agent.tools import SQLExecTool, DataToChartTool, CortexAnalystTool\n",
    "from cortex_agent.tool_resources import CortexAnalystService\n",
    "\n",
    "# Configure a Cortex Analyst Tool\n",
    "analyst_tool = CortexAnalystTool(name='analyst1')\n",
    "analyst_tool_resource = CortexAnalystService(resource_name='analyst1', semantic_model_file='@CORTEX_AGENTS_DEMO.main.semantic_models/sales_orders.yaml')\n",
    "sql_exec_tool = SQLExecTool(name='sql_exec1')\n",
    "data_to_chart_tool = DataToChartTool(name='datatochart1')\n",
    "\n",
    "# Adding all tools to the Configuration\n",
    "agent_config = CortexAgentConfiguration(\n",
    "    model='claude-3-5-sonnet',\n",
    "    tools=[analyst_tool, sql_exec_tool, data_to_chart_tool], \n",
    "    tool_resources=[analyst_tool_resource]\n",
    "    )\n",
    "\n",
    "# Create agent\n",
    "agent = CortexAgent(session=session, configuration=agent_config)"
   ]
  },
  {
   "cell_type": "code",
   "execution_count": 22,
   "metadata": {},
   "outputs": [],
   "source": [
    "# 1\n",
    "#agent = CortexAgent(session=session, configuration=agent_config)\n",
    "\n",
    "# 2\n",
    "connection_parameters = {\n",
    "    \"account\": \"SFSEEUROPE-PROD_DEMO_GORKOW\",\n",
    "    \"user\": \"ADMIN\",\n",
    "    \"role\": \"ACCOUNTADMIN\",\n",
    "    \"warehouse\": \"COMPUTE_WH\",\n",
    "    \"database\": \"CORTEX_AGENTS_DEMO\",\n",
    "    \"schema\": \"MAIN\"\n",
    "}\n",
    "agent = CortexAgent(private_key_file='rsa_key.p8', connection_parameters=connection_parameters, configuration=agent_config)\n",
    "\n",
    "# 3\n",
    "connection_parameters = {\n",
    "    \"user\": \"ADMIN\"\n",
    "}\n",
    "#agent = CortexAgent(private_key_file='rsa_key.p8', connection_parameters=connection_parameters, session=session, configuration=agent_config)\n",
    "\n",
    "# 4\n",
    "pat = open('pat.txt').read()\n",
    "connection_parameters = {\n",
    "    \"account\": \"SFSEEUROPE-PROD_DEMO_GORKOW\",\n",
    "    \"user\": \"ADMIN\",\n",
    "    \"role\": \"ACCOUNTADMIN\",\n",
    "    \"warehouse\": \"COMPUTE_WH\",\n",
    "    \"database\": \"cortex_agents_demo\",\n",
    "    \"schema\": \"MAIN\",\n",
    "}\n",
    "#agent = CortexAgent(programmatic_access_token=pat, connection_parameters=connection_parameters, configuration=agent_config)\n",
    "\n",
    "# 5\n",
    "pat = open('pat.txt').read()\n",
    "#agent = CortexAgent(programmatic_access_token=pat, session=session, configuration=agent_config)"
   ]
  },
  {
   "cell_type": "code",
   "execution_count": 20,
   "metadata": {},
   "outputs": [
    {
     "name": "stdout",
     "output_type": "stream",
     "text": [
      "User:\n",
      "What were the latest AI innovations from Googol in 2024?\n",
      "\n",
      "Assistant:\n",
      "I will use analyst1 to generate a SQL query for the answer.\n",
      "\n"
     ]
    }
   ],
   "source": [
    "for chunk in agent.make_request(content='What were the latest AI innovations from Googol in 2024?'):\n",
    "    print(chunk, end='')"
   ]
  },
  {
   "cell_type": "code",
   "execution_count": 19,
   "metadata": {},
   "outputs": [
    {
     "name": "stdout",
     "output_type": "stream",
     "text": [
      "-------\n",
      "|\"1\"  |\n",
      "-------\n",
      "|1    |\n",
      "-------\n",
      "\n"
     ]
    }
   ],
   "source": [
    "agent.connection.session.sql('SELECT 1').show()"
   ]
  },
  {
   "cell_type": "code",
   "execution_count": null,
   "metadata": {},
   "outputs": [],
   "source": [
    "# Configure a Cortex Analyst Tool\n",
    "analyst_tool = CortexAnalystTool(name='analyst1')\n",
    "analyst_tool_resource = CortexAnalystService(resource_name='analyst1', semantic_model_file='@CORTEX_AGENTS_DEMO.main.semantic_models/sales_orders.yaml')\n",
    "sql_exec_tool = SQLExecTool(name='sql_exec1')\n",
    "data_to_chart_tool = DataToChartTool(name='datatochart1')\n",
    "analyst_tool2 = CortexAnalystTool(name='analyst2')\n",
    "\n",
    "# Adding all tools to the Configuration\n",
    "agent_config = CortexAgentConfiguration(\n",
    "    model='claude-3-5-sonnet',\n",
    "    tools=[analyst_tool, sql_exec_tool, data_to_chart_tool, analyst_tool2], \n",
    "    tool_resources=[analyst_tool_resource]\n",
    "    )\n",
    "\n",
    "# Create agent\n",
    "agent = CortexAgent(session=session, configuration=agent_config)"
   ]
  },
  {
   "cell_type": "code",
   "execution_count": null,
   "metadata": {},
   "outputs": [],
   "source": [
    "from cortex_agent.tools import ALLOWED_TOOL_TYPES"
   ]
  },
  {
   "cell_type": "code",
   "execution_count": null,
   "metadata": {},
   "outputs": [],
   "source": [
    "agent.configuration.tools"
   ]
  },
  {
   "cell_type": "code",
   "execution_count": null,
   "metadata": {},
   "outputs": [],
   "source": [
    "import streamlit as st\n",
    "import json\n",
    "import hashlib\n",
    "from cortex_agent.environment_checks import is_running_inside_streamlit\n",
    "\n",
    "def make_cache_key(*args, **kwargs) -> str:\n",
    "    try:\n",
    "        # Serialize args and kwargs in a stable way\n",
    "        key_data = {\n",
    "            \"args\": args,\n",
    "            \"kwargs\": kwargs\n",
    "        }\n",
    "        key_str = json.dumps(key_data, sort_keys=True, default=str)\n",
    "    except TypeError:\n",
    "        # Fallback if something isn't serializable\n",
    "        key_str = str((args, kwargs))\n",
    "    \n",
    "    return \"response_cache_\" + hashlib.sha256(key_str.encode()).hexdigest()"
   ]
  },
  {
   "cell_type": "code",
   "execution_count": null,
   "metadata": {},
   "outputs": [],
   "source": [
    "agent._chart_summaries = {}"
   ]
  },
  {
   "cell_type": "code",
   "execution_count": null,
   "metadata": {},
   "outputs": [],
   "source": [
    "hasattr(agent, '_chart_summaries2')"
   ]
  },
  {
   "cell_type": "code",
   "execution_count": null,
   "metadata": {},
   "outputs": [],
   "source": [
    "make_cache_key('my_prompt')"
   ]
  },
  {
   "cell_type": "code",
   "execution_count": null,
   "metadata": {},
   "outputs": [],
   "source": [
    "agent._chart_summaries2[make_cache_key('my_prompt')] = 'XYZ'"
   ]
  },
  {
   "cell_type": "code",
   "execution_count": null,
   "metadata": {},
   "outputs": [],
   "source": [
    "if make_cache_key('my_prompt2') in agent._chart_summaries:\n",
    "    print('lol')"
   ]
  },
  {
   "cell_type": "code",
   "execution_count": null,
   "metadata": {},
   "outputs": [],
   "source": [
    "from cortex_agent.configuration import CortexAgentConfiguration\n",
    "from cortex_agent.tools import SQLExecTool, CortexSearchTool, CortexAnalystTool, DataToChartTool\n",
    "\n",
    "# Basic Tools\n",
    "sql_exec_tool = SQLExecTool(name='sql_exec1')\n",
    "data_to_chart_tool = DataToChartTool(name='datatochart1')\n",
    "\n",
    "# Cortex Analyst Tool and Tool Resources\n",
    "analyst_tool = CortexAnalystTool(name='analyst1')\n",
    "analyst_tool_resource = CortexAnalystService(resource_name='analyst1', semantic_model_file='@CORTEX_AGENTS_DEMO.main.semantic_models/sales_orders.yaml')\n",
    "\n",
    "# Cortex Search Tool and Tool Resources\n",
    "search_tool = CortexSearchTool(name='search1')\n",
    "search_tool_resource = CortexSearchService(\n",
    "    resource_name='search1', \n",
    "    database='CORTEX_AGENTS_DEMO', \n",
    "    schema='MAIN', \n",
    "    service_name='ANNUAL_REPORTS_SEARCH', \n",
    "    max_results=2, \n",
    "    title_column='RELATIVE_PATH', \n",
    "    id_column='CHUNK_INDEX'\n",
    "    )\n",
    "\n",
    "# Adding all tools to the Configuration\n",
    "agent_config = CortexAgentConfiguration(\n",
    "    model='claude-3-5-sonnet',\n",
    "    tools=[sql_exec_tool, data_to_chart_tool, analyst_tool,search_tool], \n",
    "    tool_resources=[analyst_tool_resource, search_tool_resource]\n",
    "    )\n",
    "\n",
    "# Create agent\n",
    "agent = CortexAgent(session=session, configuration=agent_config)\n",
    "for chunk in agent.make_request(content='What was the total order quantity per month with status shipped?'):\n",
    "    print(chunk, end='')"
   ]
  },
  {
   "cell_type": "markdown",
   "metadata": {},
   "source": [
    "# Create and Query the Agent"
   ]
  },
  {
   "cell_type": "markdown",
   "metadata": {},
   "source": [
    "### Agent with Snowpark Session\n",
    "You can use an existing Snowpark Session to connect your Agent with Snowflake.  \n",
    "\n",
    "**Note: This does not work from within Snowflake**"
   ]
  },
  {
   "cell_type": "code",
   "execution_count": null,
   "metadata": {},
   "outputs": [],
   "source": [
    "# Create agent\n",
    "agent = CortexAgent(session=session, configuration=agent_config)\n",
    "for chunk in agent.make_request(content='What was the total order quantity per month with status shipped?'):\n",
    "    print(chunk, end='')"
   ]
  },
  {
   "cell_type": "markdown",
   "metadata": {},
   "source": [
    "### Agent with Programmatic Access Token\n",
    "You can use a Programmatic Access Token to connect your Agent with Snowflake.  "
   ]
  },
  {
   "cell_type": "code",
   "execution_count": null,
   "metadata": {},
   "outputs": [],
   "source": [
    "pat = open('tests/pat.txt').read()\n",
    "\n",
    "connection_parameters = {\n",
    "    \"account\": \"SFSEEUROPE-PROD_DEMO_GORKOW\",\n",
    "    \"user\": \"ADMIN\",\n",
    "    \"role\": \"ACCOUNTADMIN\",\n",
    "    \"warehouse\": \"COMPUTE_WH\",\n",
    "    \"database\": \"cortex_agents_demo\",\n",
    "    \"schema\": \"MAIN\",\n",
    "}\n",
    "\n",
    "agent = CortexAgent(programmatic_access_token=pat, connection_parameters=connection_parameters, configuration=agent_config)\n",
    "for chunk in agent.make_request(content='What were the latest AI innovations from Googol in 2024?'):\n",
    "    print(chunk, end='')"
   ]
  },
  {
   "cell_type": "markdown",
   "metadata": {},
   "source": [
    "### Agent with Private Key File\n",
    "You can use a Private Key File to connect your Agent with Snowflake.  "
   ]
  },
  {
   "cell_type": "code",
   "execution_count": null,
   "metadata": {},
   "outputs": [],
   "source": [
    "connection_parameters = {\n",
    "    \"account\": \"SFSEEUROPE-PROD_DEMO_GORKOW\",\n",
    "    \"user\": \"ADMIN\",\n",
    "    \"role\": \"ACCOUNTADMIN\",\n",
    "    \"warehouse\": \"COMPUTE_WH\",\n",
    "    \"database\": \"CORTEX_AGENTS_DEMO\",\n",
    "    \"schema\": \"MAIN\"\n",
    "}\n",
    "\n",
    "agent = CortexAgent(private_key_file='rsa_key.p8', connection_parameters=connection_parameters, configuration=agent_config)\n",
    "for chunk in agent.make_request(content='What was the total order quantity per month with status shipped?'):\n",
    "    print(chunk, end='')"
   ]
  },
  {
   "cell_type": "code",
   "execution_count": null,
   "metadata": {},
   "outputs": [],
   "source": [
    "agent.api_handler.api_history[0].body"
   ]
  },
  {
   "cell_type": "markdown",
   "metadata": {},
   "source": [
    "# Callback Functions"
   ]
  },
  {
   "cell_type": "markdown",
   "metadata": {},
   "source": [
    "### Built-in Callback Functions (ConsolePrinter)"
   ]
  },
  {
   "cell_type": "code",
   "execution_count": null,
   "metadata": {},
   "outputs": [],
   "source": [
    "from cortex_agent.callbacks import ConsoleCallback\n",
    "\n",
    "# Create agent\n",
    "agent = CortexAgent(session=session, configuration=agent_config)\n",
    "\n",
    "# Create the callback object\n",
    "callback = ConsoleCallback(agent=agent)\n",
    "\n",
    "for chunk in agent.make_request(content='What was the total order quantity per month with status shipped?', callback=callback):\n",
    "    pass # no need to print, since callback function directly prints to console"
   ]
  },
  {
   "cell_type": "markdown",
   "metadata": {},
   "source": [
    "### Built-in Callback Functions (ConversationalCallback)\n",
    "Default callback function of Agent."
   ]
  },
  {
   "cell_type": "code",
   "execution_count": null,
   "metadata": {},
   "outputs": [],
   "source": [
    "from cortex_agent.callbacks import ConversationalCallback\n",
    "\n",
    "# Create agent\n",
    "agent = CortexAgent(session=session, configuration=agent_config)\n",
    "\n",
    "# Create the callback object\n",
    "callback = ConversationalCallback(agent=agent)\n",
    "\n",
    "for chunk in agent.make_request(content='What was the total order quantity per month with status shipped?', callback=callback):\n",
    "    print(chunk, end='')"
   ]
  },
  {
   "cell_type": "markdown",
   "metadata": {},
   "source": [
    "### Custom Callback Function\n",
    "This callback function only prints User Messages and textual responses from Agent."
   ]
  },
  {
   "cell_type": "code",
   "execution_count": null,
   "metadata": {},
   "outputs": [],
   "source": [
    "from typing import Union\n",
    "import json\n",
    "from cortex_agent.message_formats import Message\n",
    "from httpx_sse._models import ServerSentEvent\n",
    "\n",
    "class MinimalisticCallback:\n",
    "    def __init__(self):\n",
    "        self.first_text_response = True\n",
    "\n",
    "    def __call__(self, message: Union[Message, ServerSentEvent]):\n",
    "        if isinstance(message, Message):\n",
    "            response_string = f\"User Message:\\n{message['content'][0]['text']}\\n\\n\"\n",
    "            yield response_string\n",
    "        if isinstance(message, ServerSentEvent):\n",
    "            if message.event == \"done\":\n",
    "                self.first_text_response = True\n",
    "            if message.event == 'message.delta':\n",
    "                data = json.loads(message.data)\n",
    "                if data['delta']['content'][0]['type'] == 'text':\n",
    "                    if self.first_text_response:\n",
    "                        yield 'Assistant Message:\\n'\n",
    "                        self.first_text_response = False\n",
    "                    yield data['delta']['content'][0]['text']\n",
    "\n",
    "# Create agent\n",
    "agent = CortexAgent(session=session, configuration=agent_config)\n",
    "for chunk in agent.make_request(content='What were the latest AI innovations from Googol in 2024?', callback=MinimalisticCallback()):\n",
    "    print(chunk, end='')"
   ]
  },
  {
   "cell_type": "markdown",
   "metadata": {},
   "source": [
    "### Custom Callback Function (Raw Outputs)\n",
    "This callback function returns raw outputs coming from Agent."
   ]
  },
  {
   "cell_type": "code",
   "execution_count": null,
   "metadata": {},
   "outputs": [],
   "source": [
    "def raw_callback(item):\n",
    "    return item\n",
    "\n",
    "# Create agent\n",
    "agent = CortexAgent(session=session, configuration=agent_config)\n",
    "for chunk in agent.make_request(content='What were the latest AI innovations from Googol in 2024?', callback=raw_callback):\n",
    "    print(chunk)"
   ]
  },
  {
   "cell_type": "markdown",
   "metadata": {},
   "source": [
    "# General LLM Access\n",
    "The Agent class also supports direct LLM access with streaming responses."
   ]
  },
  {
   "cell_type": "code",
   "execution_count": null,
   "metadata": {},
   "outputs": [],
   "source": [
    "agent = CortexAgent(session=session, configuration=agent_config)\n",
    "for chunk in agent.complete('Tell me about Snowflake.'):\n",
    "    print(chunk, end='')"
   ]
  }
 ],
 "metadata": {
  "kernelspec": {
   "display_name": "agent_py",
   "language": "python",
   "name": "python3"
  },
  "language_info": {
   "codemirror_mode": {
    "name": "ipython",
    "version": 3
   },
   "file_extension": ".py",
   "mimetype": "text/x-python",
   "name": "python",
   "nbconvert_exporter": "python",
   "pygments_lexer": "ipython3",
   "version": "3.11.11"
  }
 },
 "nbformat": 4,
 "nbformat_minor": 2
}
