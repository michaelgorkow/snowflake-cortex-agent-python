{
 "cells": [
  {
   "cell_type": "markdown",
   "id": "023e3294-c716-4c6d-ab8f-e0ef0b6fdbfd",
   "metadata": {
    "collapsed": false,
    "name": "INTRO1"
   },
   "source": [
    "# Demo: Cortex Agents Python API (in Snowflake Notebooks)\n",
    "\n",
    "Make sure your notebook has an External Access Integration \n",
    "\n",
    "Create your External Access Integration like this:\n",
    "```sql\n",
    "CREATE OR REPLACE NETWORK RULE self_rule\n",
    "  MODE = EGRESS\n",
    "  TYPE = HOST_PORT\n",
    "  VALUE_LIST = ('<ORGNAME>-<ACCOUNTNAME>.snowflakecomputing.com');\n",
    "\n",
    "CREATE OR REPLACE EXTERNAL ACCESS INTEGRATION self_access_integration\n",
    "  ALLOWED_NETWORK_RULES = (self_rule)\n",
    "```"
   ]
  },
  {
   "cell_type": "code",
   "execution_count": null,
   "id": "d4f4999f-3248-4c20-8d14-7ed6f8d91c48",
   "metadata": {
    "language": "python",
    "name": "IMPORTS"
   },
   "outputs": [],
   "source": [
    "# Define log level\n",
    "from cortex_agent import setup_module_logger\n",
    "setup_module_logger(level='WARN')\n",
    "\n",
    "# Imports\n",
    "from snowflake.snowpark import Session\n",
    "from cortex_agent.agent import CortexAgent\n",
    "from cortex_agent.configuration import CortexAgentConfiguration\n",
    "from cortex_agent.tools import (\n",
    "    CortexSearchTool, \n",
    "    CortexAnalystTool, \n",
    "    SQLExecTool,\n",
    "    DataToChartTool\n",
    "    )\n",
    "from cortex_agent.tool_resources import CortexSearchService, CortexAnalystService\n",
    "\n",
    "# Create a session\n",
    "from snowflake.snowpark.context import get_active_session\n",
    "session = get_active_session()"
   ]
  },
  {
   "cell_type": "markdown",
   "id": "0a4d3b46-86ec-46aa-a94c-a9e493037b84",
   "metadata": {
    "collapsed": false,
    "name": "CREATE_AGENT1"
   },
   "source": [
    "# Create an Agent Configuration\n",
    "An agent has access to one or more tools.  "
   ]
  },
  {
   "cell_type": "code",
   "execution_count": null,
   "id": "9a5504b6-7ec6-460d-8c86-00cf6d8a98c5",
   "metadata": {
    "language": "python",
    "name": "CREATE_AGENT2"
   },
   "outputs": [],
   "source": [
    "from cortex_agent.configuration import CortexAgentConfiguration\n",
    "from cortex_agent.tools import SQLExecTool, CortexSearchTool, CortexAnalystTool, DataToChartTool\n",
    "\n",
    "# Basic Tools\n",
    "sql_exec_tool = SQLExecTool(name='sql_exec1')\n",
    "data_to_chart_tool = DataToChartTool(name='datatochart1')\n",
    "\n",
    "# Cortex Analyst Tool and Tool Resources\n",
    "analyst_tool = CortexAnalystTool(name='analyst1')\n",
    "analyst_tool_resource = CortexAnalystService(resource_name='analyst1', semantic_model_file='@CORTEX_AGENTS_DEMO.main.semantic_models/sales_orders.yaml')\n",
    "\n",
    "# Cortex Search Tool and Tool Resources\n",
    "search_tool = CortexSearchTool(name='search1')\n",
    "search_tool_resource = CortexSearchService(\n",
    "    resource_name='search1', \n",
    "    database='CORTEX_AGENTS_DEMO', \n",
    "    schema='MAIN', \n",
    "    service_name='ANNUAL_REPORTS_SEARCH', \n",
    "    max_results=2, \n",
    "    title_column='RELATIVE_PATH', \n",
    "    id_column='CHUNK_INDEX'\n",
    "    )\n",
    "\n",
    "# Adding all tools to the Configuration\n",
    "agent_config = CortexAgentConfiguration(\n",
    "    model='claude-3-5-sonnet',\n",
    "    tools=[sql_exec_tool, data_to_chart_tool, analyst_tool,search_tool], \n",
    "    tool_resources=[analyst_tool_resource, search_tool_resource]\n",
    "    )\n",
    "\n",
    "print(agent_config)"
   ]
  },
  {
   "cell_type": "markdown",
   "id": "db330bec-16e0-4d94-98ba-73b2e464811a",
   "metadata": {
    "collapsed": false,
    "name": "AGENT_PAT1"
   },
   "source": [
    "### Agent with Programmatic Access Token\n",
    "You can use a Programmatic Access Token to connect your Agent with Snowflake.  "
   ]
  },
  {
   "cell_type": "code",
   "execution_count": null,
   "id": "a9058b59-8255-4944-a8b6-ef68decb9de7",
   "metadata": {
    "language": "python",
    "name": "AGENT_PAT2"
   },
   "outputs": [],
   "source": [
    "# Create a new token for your user\n",
    "agent_api_token = session.sql(\"ALTER USER ADD PROGRAMMATIC ACCESS TOKEN agent_api_token3\").collect()[0]['token_secret']"
   ]
  },
  {
   "cell_type": "code",
   "execution_count": null,
   "id": "973d66ce-54fc-4444-838f-02f4d1eaa553",
   "metadata": {
    "language": "python",
    "name": "AGENT_PAT3"
   },
   "outputs": [
    {
     "ename": "FileNotFoundError",
     "evalue": "[Errno 2] No such file or directory: 'pat.txt'",
     "output_type": "error",
     "traceback": [
      "\u001b[31m---------------------------------------------------------------------------\u001b[39m",
      "\u001b[31mFileNotFoundError\u001b[39m                         Traceback (most recent call last)",
      "\u001b[36mCell\u001b[39m\u001b[36m \u001b[39m\u001b[32mIn[1]\u001b[39m\u001b[32m, line 1\u001b[39m\n\u001b[32m----> \u001b[39m\u001b[32m1\u001b[39m agent_api_token = \u001b[38;5;28;43mopen\u001b[39;49m\u001b[43m(\u001b[49m\u001b[33;43m'\u001b[39;49m\u001b[33;43mpat.txt\u001b[39;49m\u001b[33;43m'\u001b[39;49m\u001b[43m)\u001b[49m.readline()\n\u001b[32m      2\u001b[39m connection_parameters = {\n\u001b[32m      3\u001b[39m     \u001b[33m\"\u001b[39m\u001b[33maccount\u001b[39m\u001b[33m\"\u001b[39m: \u001b[33m\"\u001b[39m\u001b[33mSFSEEUROPE-PROD-DEMO-GORKOW.snowflakecomputing.com\u001b[39m\u001b[33m\"\u001b[39m,\n\u001b[32m      4\u001b[39m     \u001b[33m\"\u001b[39m\u001b[33muser\u001b[39m\u001b[33m\"\u001b[39m: \u001b[33m\"\u001b[39m\u001b[33mADMIN\u001b[39m\u001b[33m\"\u001b[39m,\n\u001b[32m   (...)\u001b[39m\u001b[32m      8\u001b[39m     \u001b[33m\"\u001b[39m\u001b[33mschema\u001b[39m\u001b[33m\"\u001b[39m: \u001b[33m\"\u001b[39m\u001b[33mMAIN\u001b[39m\u001b[33m\"\u001b[39m,\n\u001b[32m      9\u001b[39m }\n\u001b[32m     11\u001b[39m agent = CortexAgent(\n\u001b[32m     12\u001b[39m     programmatic_access_token=agent_api_token, \n\u001b[32m     13\u001b[39m     connection_parameters=connection_parameters, \n\u001b[32m     14\u001b[39m     configuration=agent_config, \n\u001b[32m     15\u001b[39m     \u001b[38;5;66;03m#session=session\u001b[39;00m\n\u001b[32m     16\u001b[39m )\n",
      "\u001b[36mFile \u001b[39m\u001b[32m/opt/anaconda3/envs/agent_py/lib/python3.11/site-packages/IPython/core/interactiveshell.py:325\u001b[39m, in \u001b[36m_modified_open\u001b[39m\u001b[34m(file, *args, **kwargs)\u001b[39m\n\u001b[32m    318\u001b[39m \u001b[38;5;28;01mif\u001b[39;00m file \u001b[38;5;129;01min\u001b[39;00m {\u001b[32m0\u001b[39m, \u001b[32m1\u001b[39m, \u001b[32m2\u001b[39m}:\n\u001b[32m    319\u001b[39m     \u001b[38;5;28;01mraise\u001b[39;00m \u001b[38;5;167;01mValueError\u001b[39;00m(\n\u001b[32m    320\u001b[39m         \u001b[33mf\u001b[39m\u001b[33m\"\u001b[39m\u001b[33mIPython won\u001b[39m\u001b[33m'\u001b[39m\u001b[33mt let you open fd=\u001b[39m\u001b[38;5;132;01m{\u001b[39;00mfile\u001b[38;5;132;01m}\u001b[39;00m\u001b[33m by default \u001b[39m\u001b[33m\"\u001b[39m\n\u001b[32m    321\u001b[39m         \u001b[33m\"\u001b[39m\u001b[33mas it is likely to crash IPython. If you know what you are doing, \u001b[39m\u001b[33m\"\u001b[39m\n\u001b[32m    322\u001b[39m         \u001b[33m\"\u001b[39m\u001b[33myou can use builtins\u001b[39m\u001b[33m'\u001b[39m\u001b[33m open.\u001b[39m\u001b[33m\"\u001b[39m\n\u001b[32m    323\u001b[39m     )\n\u001b[32m--> \u001b[39m\u001b[32m325\u001b[39m \u001b[38;5;28;01mreturn\u001b[39;00m \u001b[43mio_open\u001b[49m\u001b[43m(\u001b[49m\u001b[43mfile\u001b[49m\u001b[43m,\u001b[49m\u001b[43m \u001b[49m\u001b[43m*\u001b[49m\u001b[43margs\u001b[49m\u001b[43m,\u001b[49m\u001b[43m \u001b[49m\u001b[43m*\u001b[49m\u001b[43m*\u001b[49m\u001b[43mkwargs\u001b[49m\u001b[43m)\u001b[49m\n",
      "\u001b[31mFileNotFoundError\u001b[39m: [Errno 2] No such file or directory: 'pat.txt'"
     ]
    }
   ],
   "source": [
    "agent_api_token = open('pat.txt').readline()\n",
    "connection_parameters = {\n",
    "    \"account\": \"SFSEEUROPE-PROD-DEMO-GORKOW.snowflakecomputing.com\",\n",
    "    \"user\": \"ADMIN\",\n",
    "    \"role\": \"ACCOUNTADMIN\",\n",
    "    \"warehouse\": \"COMPUTE_WH\",\n",
    "    \"database\": \"cortex_agents_demo\",\n",
    "    \"schema\": \"MAIN\",\n",
    "}\n",
    "\n",
    "agent = CortexAgent(\n",
    "    programmatic_access_token=agent_api_token, \n",
    "    connection_parameters=connection_parameters, \n",
    "    configuration=agent_config, \n",
    "    session=session\n",
    ")\n",
    "\n",
    "for chunk in agent.make_request(content='What were the latest AI innovations from Googol in 2024?'):\n",
    "    print(chunk, end='')"
   ]
  },
  {
   "cell_type": "markdown",
   "id": "02be9b50-0de2-4b37-8739-2359b522baef",
   "metadata": {
    "collapsed": false,
    "name": "AGENT_PRIVATE_KEY1"
   },
   "source": [
    "### Agent with Private Key File\n",
    "You can use a Private Key File to connect your Agent with Snowflake.  \n",
    "Make sure your key is accessible in the notebook."
   ]
  },
  {
   "cell_type": "code",
   "execution_count": null,
   "id": "0d6ce4e3-b16c-4b79-a875-ab7115c36261",
   "metadata": {
    "language": "python",
    "name": "AGENT_PRIVATE_KEY2"
   },
   "outputs": [],
   "source": [
    "connection_parameters = {\n",
    "    \"account\": \"SFSEEUROPE-PROD-DEMO-GORKOW.snowflakecomputing.com\",\n",
    "    \"user\": \"ADMIN\",\n",
    "    \"role\": \"ACCOUNTADMIN\",\n",
    "    \"warehouse\": \"COMPUTE_WH\",\n",
    "    \"database\": \"CORTEX_AGENTS_DEMO\",\n",
    "    \"schema\": \"MAIN\"\n",
    "}\n",
    "\n",
    "agent = CortexAgent(\n",
    "    private_key_file='rsa_key.p8', \n",
    "    connection_parameters=connection_parameters, \n",
    "    configuration=agent_config, \n",
    "    session=session\n",
    ")\n",
    "\n",
    "for chunk in agent.make_request(content='What were the latest AI innovations from Googol in 2024?'):\n",
    "    print(chunk, end='')"
   ]
  },
  {
   "cell_type": "markdown",
   "id": "8d9a3979-eea0-4bd3-a9b7-44e3a3c8c54b",
   "metadata": {
    "collapsed": false,
    "name": "AGENT_CALLBACK1"
   },
   "source": [
    "# Callback Functions"
   ]
  },
  {
   "cell_type": "markdown",
   "id": "50d9a500-bc65-40d0-962e-2c06d5a0cef0",
   "metadata": {
    "collapsed": false,
    "name": "AGENT_CALLBACK_STREAMLIT1"
   },
   "source": [
    "### Built-in Callback Functions (StreamlitCallback)"
   ]
  },
  {
   "cell_type": "code",
   "execution_count": null,
   "id": "a96e7a5c-9590-4a4e-b217-2bc1a9602110",
   "metadata": {
    "language": "python",
    "name": "AGENT_CALLBACK_STREAMLIT2"
   },
   "outputs": [],
   "source": [
    "from cortex_agent.callbacks import StreamlitCallback\n",
    "\n",
    "connection_parameters = {\n",
    "    \"account\": \"SFSEEUROPE-PROD-DEMO-GORKOW.snowflakecomputing.com\",\n",
    "    \"user\": \"ADMIN\",\n",
    "    \"role\": \"ACCOUNTADMIN\",\n",
    "    \"warehouse\": \"COMPUTE_WH\",\n",
    "    \"database\": \"cortex_agents_demo\",\n",
    "    \"schema\": \"MAIN\",\n",
    "}\n",
    "\n",
    "# Create agent\n",
    "agent = CortexAgent(\n",
    "    programmatic_access_token=agent_api_token, \n",
    "    connection_parameters=connection_parameters, \n",
    "    configuration=agent_config, \n",
    "    session=session\n",
    ")\n",
    "\n",
    "for chunk in agent.make_request(content='What was the total order quantity per month with status shipped? Create a bar plot.', callback=StreamlitCallback(agent)):\n",
    "    pass"
   ]
  },
  {
   "cell_type": "markdown",
   "id": "b75efac4-6c9e-444c-8f4a-6eee75335559",
   "metadata": {
    "collapsed": false,
    "name": "AGENT_CALLBACK_CONSOLE1"
   },
   "source": [
    "### Built-in Callback Functions (ConsolePrinter)"
   ]
  },
  {
   "cell_type": "code",
   "execution_count": null,
   "id": "aa5dcbcf-e0b5-4583-89c0-8f59c8d0258e",
   "metadata": {
    "language": "python",
    "name": "AGENT_CALLBACK_CONSOLE2"
   },
   "outputs": [],
   "source": [
    "from cortex_agent.callbacks import ConsoleCallback\n",
    "\n",
    "connection_parameters = {\n",
    "    \"account\": \"SFSEEUROPE-PROD-DEMO-GORKOW.snowflakecomputing.com\",\n",
    "    \"user\": \"ADMIN\",\n",
    "    \"role\": \"ACCOUNTADMIN\",\n",
    "    \"warehouse\": \"COMPUTE_WH\",\n",
    "    \"database\": \"CORTEX_AGENTS_DEMO\",\n",
    "    \"schema\": \"MAIN\"\n",
    "}\n",
    "\n",
    "# Create agent\n",
    "agent = CortexAgent(\n",
    "    programmatic_access_token=agent_api_token, \n",
    "    connection_parameters=connection_parameters, \n",
    "    configuration=agent_config, \n",
    "    session=session\n",
    ")\n",
    "\n",
    "# Create the callback object\n",
    "callback = ConsoleCallback(agent=agent, console_print=False)\n",
    "\n",
    "for chunk in agent.make_request(content='What was the total order quantity per month with status shipped?', callback=callback):\n",
    "    print(chunk)"
   ]
  },
  {
   "cell_type": "markdown",
   "id": "991296dd-10cd-47f0-9a61-b7d456282d46",
   "metadata": {
    "collapsed": false,
    "name": "AGENT_CALLBACK_CONV1"
   },
   "source": [
    "### Built-in Callback Functions (ConversationalCallback)\n",
    "Default callback function of Agent."
   ]
  },
  {
   "cell_type": "code",
   "execution_count": null,
   "id": "e771439d-c3fd-43f7-8c21-889af14e605e",
   "metadata": {
    "language": "python",
    "name": "AGENT_CALLBACK_CONV2"
   },
   "outputs": [],
   "source": [
    "from cortex_agent.callbacks import ConversationalCallback\n",
    "\n",
    "# Create agent\n",
    "agent = CortexAgent(\n",
    "    programmatic_access_token=agent_api_token, \n",
    "    connection_parameters=connection_parameters, \n",
    "    configuration=agent_config, \n",
    "    session=session\n",
    ")\n",
    "\n",
    "# Create the callback object\n",
    "callback = ConversationalCallback(agent=agent)\n",
    "\n",
    "for chunk in agent.make_request(content='What were the latest AI innovations from Googol in 2024?', callback=callback):\n",
    "    print(chunk, end='')"
   ]
  },
  {
   "cell_type": "markdown",
   "id": "3efc0477-5c15-4ae7-af3e-57ce031fc912",
   "metadata": {
    "collapsed": false,
    "name": "AGENT_CALLBACK_CUSTOM1"
   },
   "source": [
    "### Custom Callback Function\n",
    "This callback function only prints User Messages and textual responses from Agent."
   ]
  },
  {
   "cell_type": "code",
   "execution_count": null,
   "id": "1b8db533-18e9-4648-9308-f72484511503",
   "metadata": {
    "language": "python",
    "name": "AGENT_CALLBACK_CUSTOM2"
   },
   "outputs": [],
   "source": [
    "from typing import Union\n",
    "import json\n",
    "from cortex_agent.message_formats import Message\n",
    "from httpx_sse._models import ServerSentEvent\n",
    "\n",
    "class MinimalisticCallback:\n",
    "    def __init__(self):\n",
    "        self.first_text_response = True\n",
    "\n",
    "    def __call__(self, message: Union[Message, ServerSentEvent]):\n",
    "        if isinstance(message, Message):\n",
    "            response_string = f\"User Message:\\n{message['content'][0]['text']}\\n\\n\"\n",
    "            yield response_string\n",
    "        if isinstance(message, ServerSentEvent):\n",
    "            if message.event == \"done\":\n",
    "                self.first_text_response = True\n",
    "            if message.event == 'message.delta':\n",
    "                data = json.loads(message.data)\n",
    "                if data['delta']['content'][0]['type'] == 'text':\n",
    "                    if self.first_text_response:\n",
    "                        yield 'Assistant Message:\\n'\n",
    "                        self.first_text_response = False\n",
    "                    yield data['delta']['content'][0]['text']\n",
    "\n",
    "# Create agent\n",
    "agent = CortexAgent(\n",
    "    programmatic_access_token=agent_api_token, \n",
    "    connection_parameters=connection_parameters, \n",
    "    configuration=agent_config, \n",
    "    session=session\n",
    ")\n",
    "\n",
    "for chunk in agent.make_request(content='What were the latest AI innovations from Googol in 2024?', callback=MinimalisticCallback()):\n",
    "    print(chunk, end='')"
   ]
  },
  {
   "cell_type": "markdown",
   "id": "1dc45a47-448f-48f5-bc72-eb9c5efb38db",
   "metadata": {
    "collapsed": false,
    "name": "AGENT_CALLBACK_CUSTOM3"
   },
   "source": [
    "### Custom Callback Function (Raw Outputs)\n",
    "This callback function returns raw outputs coming from Agent."
   ]
  },
  {
   "cell_type": "code",
   "execution_count": null,
   "id": "53d0891c-a4ad-4e8a-9229-992407ec637b",
   "metadata": {
    "language": "python",
    "name": "AGENT_CALLBACK_CUSTOM4"
   },
   "outputs": [],
   "source": [
    "import time \n",
    "import streamlit as st\n",
    "\n",
    "def raw_callback(item):\n",
    "    st.write(item)\n",
    "    time.sleep(10)\n",
    "    return item\n",
    "\n",
    "agent_api_token = open('pat.txt').readline()\n",
    "connection_parameters = {\n",
    "    \"account\": \"SFSEEUROPE-PROD-DEMO-GORKOW.snowflakecomputing.com\",\n",
    "    \"user\": \"ADMIN\",\n",
    "    \"role\": \"ACCOUNTADMIN\",\n",
    "    \"warehouse\": \"COMPUTE_WH\",\n",
    "    \"database\": \"CORTEX_AGENTS_DEMO\",\n",
    "    \"schema\": \"MAIN\"\n",
    "}\n",
    "\n",
    "# Create agent\n",
    "agent = CortexAgent(\n",
    "    programmatic_access_token=agent_api_token, \n",
    "    connection_parameters=connection_parameters, \n",
    "    configuration=agent_config, \n",
    "    session=session\n",
    ")\n",
    "\n",
    "for chunk in agent.make_request(content='What was the total order quantity per month with status shipped?', callback=raw_callback):\n",
    "    pass"
   ]
  }
 ],
 "metadata": {
  "kernelspec": {
   "display_name": "agent_py",
   "language": "python",
   "name": "python3"
  },
  "language_info": {
   "codemirror_mode": {
    "name": "ipython",
    "version": 3
   },
   "file_extension": ".py",
   "mimetype": "text/x-python",
   "name": "python",
   "nbconvert_exporter": "python",
   "pygments_lexer": "ipython3",
   "version": "3.11.11"
  },
  "lastEditStatus": {
   "authorEmail": "michael.gorkow@snowflake.com",
   "authorId": "61864603178",
   "authorName": "ADMIN",
   "lastEditTime": 1743895531341,
   "notebookId": "own2q6rf6k6zlespmc55",
   "sessionId": "e04ccf7f-6e5c-4c53-bc5c-d89de67627b1"
  }
 },
 "nbformat": 4,
 "nbformat_minor": 5
}
